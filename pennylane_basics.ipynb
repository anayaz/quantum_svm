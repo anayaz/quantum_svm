{
 "cells": [
  {
   "cell_type": "code",
   "execution_count": 1,
   "id": "1bd5e3c8",
   "metadata": {},
   "outputs": [],
   "source": [
    "import pennylane as qml\n",
    "from pennylane import numpy as np"
   ]
  },
  {
   "cell_type": "markdown",
   "id": "6c1f935e",
   "metadata": {},
   "source": [
    "### device\n",
    "Any computational object that can apply quantum operations and return a measurement value is called a quantum device. Its called with function device(). Practically some a hradware device would replace it like IBM.."
   ]
  },
  {
   "cell_type": "code",
   "execution_count": 3,
   "id": "acce7138",
   "metadata": {},
   "outputs": [],
   "source": [
    "# name: the name of the device to be loaded\n",
    "# wires: the number of subsystems to initialize the device with. # qubits\n",
    "dev1 = qml.device(\"lightning.qubit\", wires=1)"
   ]
  },
  {
   "cell_type": "code",
   "execution_count": null,
   "id": "139e03de",
   "metadata": {},
   "outputs": [],
   "source": [
    "#Quantum function. Write operations one in a line:\n",
    "def circuit(params):\n",
    "    qml.RX(params[0], wires=0)\n",
    "    qml.RY(params[1], wires=0)\n",
    "    return qml.expval(qml.PauliZ(0))"
   ]
  },
  {
   "cell_type": "markdown",
   "id": "77650916",
   "metadata": {},
   "source": [
    "QNodes merges the device with quantum function to run on. it can be constructed via the QNode class, or by using the provided qnode() decorator."
   ]
  },
  {
   "cell_type": "code",
   "execution_count": 5,
   "id": "75e88926",
   "metadata": {},
   "outputs": [],
   "source": [
    "@qml.qnode(dev1)\n",
    "def circuit(params):\n",
    "    #wire index start from zero here. We operate on one wire we set earlier. \n",
    "    #Rotation operation here\n",
    "    qml.RX(params[0], wires=0)\n",
    "    qml.RY(params[1], wires=0)\n",
    "    return qml.expval(qml.PauliZ(0))"
   ]
  },
  {
   "cell_type": "code",
   "execution_count": 7,
   "id": "2725e3ff",
   "metadata": {},
   "outputs": [
    {
     "name": "stdout",
     "output_type": "stream",
     "text": [
      "0.8515405859048367\n"
     ]
    }
   ],
   "source": [
    "#Execute. e.g.:\n",
    "print(circuit([0.54, 0.12]))"
   ]
  },
  {
   "cell_type": "code",
   "execution_count": null,
   "id": "3c8240f1",
   "metadata": {},
   "outputs": [],
   "source": []
  }
 ],
 "metadata": {
  "kernelspec": {
   "display_name": "Python 3 (ipykernel)",
   "language": "python",
   "name": "python3"
  },
  "language_info": {
   "codemirror_mode": {
    "name": "ipython",
    "version": 3
   },
   "file_extension": ".py",
   "mimetype": "text/x-python",
   "name": "python",
   "nbconvert_exporter": "python",
   "pygments_lexer": "ipython3",
   "version": "3.8.16"
  }
 },
 "nbformat": 4,
 "nbformat_minor": 5
}
